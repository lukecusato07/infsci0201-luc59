{
 "cells": [
  {
   "attachments": {},
   "cell_type": "markdown",
   "metadata": {},
   "source": [
    "#### **Here I will show how my API can be consumed by a user**"
   ]
  },
  {
   "attachments": {},
   "cell_type": "markdown",
   "metadata": {},
   "source": [
    "##### **Home/Index Page**\n",
    "\n",
    "##### Here the user can come to the home page of their smart device network and it will display to the user their address and the information to add a device to their network. \n",
    "\n",
    "##### This page will display upon the API call '/'"
   ]
  },
  {
   "attachments": {},
   "cell_type": "markdown",
   "metadata": {},
   "source": [
    "![Home Image](home.png)"
   ]
  },
  {
   "attachments": {},
   "cell_type": "markdown",
   "metadata": {},
   "source": [
    "##### **Devices Page**\n",
    "\n",
    "##### Here the user can come to the devices page of their smart device network and it will display to the user their smart devices in a list format. The user will be able to see all \n",
    "\n",
    "##### This page will display upon the API call '/devices'"
   ]
  },
  {
   "attachments": {},
   "cell_type": "markdown",
   "metadata": {},
   "source": [
    "![Devices Image](devices.png)"
   ]
  },
  {
   "attachments": {},
   "cell_type": "markdown",
   "metadata": {},
   "source": [
    "##### **Add/Update Page**\n",
    "\n",
    "##### Here the user can come to the add/delete page in order to manage their smart device network. For example if a user updates a device's software, they can update any new information. Additionally they can manage their network further by deleting a device off their network by entering it's information.\n",
    "\n",
    "##### The user can access this API endpoint in a different way than the rest of the endpoints as this endpoint is accessed with an ID.\n",
    "\n",
    "\n",
    "##### This page will display upon the API call '/devices/<id>'"
   ]
  },
  {
   "attachments": {},
   "cell_type": "markdown",
   "metadata": {},
   "source": [
    "![Devices Image](update_delete.png)"
   ]
  },
  {
   "attachments": {},
   "cell_type": "markdown",
   "metadata": {},
   "source": [
    "![Devices Image](device_add.png)"
   ]
  },
  {
   "attachments": {},
   "cell_type": "markdown",
   "metadata": {},
   "source": [
    "##### **Temperature Check Page**\n",
    "\n",
    "##### Here the user can come to the temperature check page of their smart device network so that they can compare the inside temperature of their home to the local outside temperature. This page calls from the API that I used, called: https://www.weatherapi.com. This API is great because it specifically only gives the user the information about the current temperatures in their area. \n",
    "\n",
    "\n",
    "##### This page will display upon the API call '/temperature_check'"
   ]
  },
  {
   "attachments": {},
   "cell_type": "markdown",
   "metadata": {},
   "source": [
    "![Devices Image](temp_check.png)"
   ]
  }
 ],
 "metadata": {
  "kernelspec": {
   "display_name": "Python 3",
   "language": "python",
   "name": "python3"
  },
  "language_info": {
   "name": "python",
   "version": "3.11.5 (v3.11.5:cce6ba91b3, Aug 24 2023, 10:50:31) [Clang 13.0.0 (clang-1300.0.29.30)]"
  },
  "orig_nbformat": 4,
  "vscode": {
   "interpreter": {
    "hash": "aee8b7b246df8f9039afb4144a1f6fd8d2ca17a180786b69acc140d282b71a49"
   }
  }
 },
 "nbformat": 4,
 "nbformat_minor": 2
}
