{
 "cells": [
  {
   "attachments": {},
   "cell_type": "markdown",
   "metadata": {},
   "source": [
    "1. Read data from the words.txt and store it as a list of individual words.\n",
    "a. Make sure that all the words are in lower case\n",
    "b. Remove preceding and trailing spaces. Hint: there is a specific string function that\n",
    "does this for you.\n",
    "c. Remove the new line character ‘\\n’\n",
    "d. Remove duplicates. Hint: Convert your list to a set and back to a list. Google this\n",
    "to find out how you can create a set from a list and vice versa."
   ]
  },
  {
   "cell_type": "code",
   "execution_count": null,
   "metadata": {},
   "outputs": [],
   "source": [
    "# 1 Read data from the words.txt and store it as a list of individual words\n",
    "\n",
    "open_file = open(\"words.txt\")\n",
    "f = file(\"words.txt\")\n",
    "\n",
    "for words in f:\n",
    "    words.lower(f)\n",
    "    words.rstrip(f)\n",
    "    words.lstrip(f)\n"
   ]
  }
 ],
 "metadata": {
  "kernelspec": {
   "display_name": "Python 3",
   "language": "python",
   "name": "python3"
  },
  "language_info": {
   "name": "python",
   "version": "3.11.5 (v3.11.5:cce6ba91b3, Aug 24 2023, 10:50:31) [Clang 13.0.0 (clang-1300.0.29.30)]"
  },
  "orig_nbformat": 4,
  "vscode": {
   "interpreter": {
    "hash": "aee8b7b246df8f9039afb4144a1f6fd8d2ca17a180786b69acc140d282b71a49"
   }
  }
 },
 "nbformat": 4,
 "nbformat_minor": 2
}
