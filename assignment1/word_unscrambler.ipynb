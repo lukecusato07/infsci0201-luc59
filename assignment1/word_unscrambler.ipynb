{
 "cells": [
  {
   "cell_type": "code",
   "execution_count": 288,
   "metadata": {},
   "outputs": [],
   "source": [
    "# 1 Read data from the words.txt and store it as a list of individual words\n",
    "\n",
    "def read_words():\n",
    "    open_file = open(\"words.txt\", \"r\")\n",
    "    word_list = [] # Initalizes a list of words in \"words.txt\"\n",
    "\n",
    "    for words in open_file:\n",
    "        words = words.lower() # Makes all words in \"words.txt\" lowercase\n",
    "        words = words.strip() # Removes all leading and trailing characters from all words\n",
    "        words = words.replace('\\n', '') # Removes newline character \n",
    "\n",
    "        word_list.append(words)\n",
    "\n",
    "    open_file.close()\n",
    "    word_set = set(word_list) # Convert list into a set to remove duplicates\n",
    "    word_list = list(word_set) # Converts set back into a list\n",
    "    return word_list"
   ]
  },
  {
   "cell_type": "code",
   "execution_count": 289,
   "metadata": {},
   "outputs": [],
   "source": [
    "# 2. Ask user for an input word.\n",
    "\n",
    "def get_user_input():\n",
    "    while True: # Allows multiple inputs\n",
    "        user_input = input(\"Please enter a single word: \")\n",
    "        \n",
    "        if user_input == \"-1\":\n",
    "            return None\n",
    "        elif len(user_input) < 3: # Checks lower bound of user_input\n",
    "            print(\"Please enter a single word with more than 3 characters: \")\n",
    "            continue\n",
    "        elif len(user_input) > 6: # Checks upper bound of user_input\n",
    "            return user_input[:6]\n",
    "        elif len(user_input) >= 3 and len(user_input) <= 6: # Break loop if input is the proper length \n",
    "            return user_input\n",
    "        else:\n",
    "            return None"
   ]
  },
  {
   "cell_type": "code",
   "execution_count": 290,
   "metadata": {},
   "outputs": [],
   "source": [
    "# 3. Iterate over the list of words\n",
    "\n",
    "def matching_words(word_list, user_input):\n",
    "    result = [] # Initalize empty list \n",
    "    \n",
    "    for word in word_list:\n",
    "        valid = True\n",
    "        for letter in word:\n",
    "            if letter in user_input: # Check if the letter exists in user_input\n",
    "                list(user_input).remove(letter)\n",
    "            else:\n",
    "                valid = False\n",
    "                break\n",
    "        if valid:\n",
    "            result.append(word) # Adds existing letters of matching words to an empty list \n",
    "\n",
    "    return result"
   ]
  },
  {
   "cell_type": "code",
   "execution_count": 291,
   "metadata": {},
   "outputs": [],
   "source": [
    "# 4. Matching words list\n",
    "\n",
    "def len_sort(matching_words):\n",
    "\n",
    "    three_letters = []\n",
    "    four_letters = []\n",
    "    five_letters = []\n",
    "    six_letters = []\n",
    "    \n",
    "    for word in matching_words:\n",
    "        if len(word) == 3: # Prints a list of all 3 letter matches\n",
    "            three_letters.append(word)\n",
    "        if len(word) == 4: # Prints a list of all 4 letter matches\n",
    "            four_letters.append(word)\n",
    "        if len(word) == 5: # Prints a list of all 5 letter matches\n",
    "            five_letters.append(word)\n",
    "        if len(word) == 6: # Prints a list of all 6 letter matches\n",
    "            six_letters.append(word)\n",
    "            \n",
    "    print(\"All 3 letter words: \", three_letters)\n",
    "    print(\"All 4 letter words: \", four_letters)\n",
    "    print(\"All 5 letter words: \", five_letters)\n",
    "    print(\"All 6 letter words: \", six_letters)\n",
    "\n"
   ]
  },
  {
   "cell_type": "code",
   "execution_count": 292,
   "metadata": {},
   "outputs": [
    {
     "name": "stdout",
     "output_type": "stream",
     "text": [
      "\n",
      "MATCHED WORDS FOR:  cardio\n",
      "All 3 letter words:  ['rod', 'dad', 'arr', 'oar', 'odd', 'rid', 'cai', 'iii', 'rad', 'cod', 'arc', 'coo', 'ric', 'ord', 'roi', 'acc', 'air', 'roc', 'cro', 'rcd', 'oii', 'ria', 'ora', 'doo', 'cor', 'oca', 'iao', 'aaa', 'cad', 'doc', 'cir', 'dar', 'car', 'oda', 'oad', 'crc', 'roo', 'ado', 'dca', 'dod', 'ida', 'dao', 'dia', 'aor', 'doa', 'ido', 'cia', 'ada', 'dir', 'aid', 'ara', 'did', 'aro', 'ira', 'cid', 'orc', 'cdr', 'rio', 'dor', 'add', 'adc']\n",
      "All 4 letter words:  ['caic', 'arca', 'road', 'dodo', 'raia', 'arid', 'dada', 'adda', 'coir', 'raid', 'acid', 'arri', 'ooid', 'cric', 'acad', 'rood', 'circ', 'adad', 'rodd', 'oooo', 'arad', 'cadi', 'aria', 'carr', 'ciao', 'dioc', 'dorr', 'adod', 'caca', 'ccid', 'oord', 'dodd', 'rara', 'iodo', 'dora', 'cord', 'dari', 'cair', 'dori', 'door', 'adar', 'rada', 'caci', 'coca', 'dado', 'dcor', 'coda', 'adai', 'caro', 'orca', 'orad', 'dard', 'ador', 'idic', 'acor', 'codo', 'roid', 'drad', 'dido', 'raad', 'darr', 'irid', 'cara', 'odic', 'rori', 'coco', 'roar', 'dird', 'arco', 'ordo', 'aira', 'odor', 'addr', 'croc', 'corr', 'orra', 'cora', 'acca', 'icod', 'arar', 'caid', 'card']\n",
      "All 5 letter words:  ['icica', 'coria', 'daira', 'arioi', 'daroo', 'cicad', 'crood', 'ardri', 'adrad', 'circa', 'oaric', 'iddio', 'doric', 'ardor', 'addda', 'cacao', 'cirri', 'radii', 'cairo', 'accra', 'coaid', 'cocao', 'icaco', 'croci', 'carri', 'roric', 'dorad', 'radio', 'arado', 'addio', 'acara', 'oidia', 'araca', 'arara', 'draco', 'darii', 'doria', 'caroa', 'caird', 'dirca', 'aroid', 'iodic', 'daric', 'aroar', 'acroa', 'iodid', 'radar', 'acrid', 'dairi', 'cocco', 'rorid', 'idaic', 'cocci', 'irido', 'crcao', 'cardo', 'caddo', 'darac', 'cocoa', 'carid', 'darci', 'acari', 'coroa']\n",
      "All 6 letter words:  ['oraria', 'accord', 'cordia', 'iridic', 'acoria', 'diodia', 'circar', 'cariri', 'dorado', 'acacia', 'coccid', 'doodia', 'caraco', 'coccic', 'corcir', 'dardic', 'cicada', 'caccia', 'caroid', 'radiac', 'didric', 'cracca', 'acadia', 'riccia', 'icaria', 'acarid', 'carica', 'diadic', 'diiodo', 'carara', 'raioid', 'diacid', 'cardia', 'acidic', 'aradid', 'carida', 'cacara', 'ricrac', 'ararao', 'rococo', 'doodad']\n",
      "\n",
      "MATCHED WORDS FOR:  auto\n",
      "All 3 letter words:  ['tot', 'tat', 'tau', 'tut', 'ata', 'utu', 'too', 'tou', 'tao', 'aaa', 'oto', 'out', 'att', 'taa', 'tua', 'oot', 'oat', 'toa', 'uta']\n",
      "All 4 letter words:  ['atua', 'toat', 'oooo', 'auto', 'otto', 'atta', 'taut', 'toot', 'toto', 'tatu', 'tutu', 'tout']\n",
      "All 5 letter words:  ['tatta', 'tatoo', 'tatou', 'tutto', 'taata']\n",
      "All 6 letter words:  ['toatoa', 'autota', 'tattoo']\n"
     ]
    }
   ],
   "source": [
    "# Calling main\n",
    "def main():\n",
    "    words_list = read_words()\n",
    "\n",
    "    while True:\n",
    "        user_input = get_user_input()\n",
    "        if user_input is None:\n",
    "            return\n",
    "\n",
    "        print(\"\\nMATCHED WORDS FOR: \", user_input)\n",
    "\n",
    "        matched_words = matching_words(words_list, user_input)\n",
    "        len_sort(matched_words)\n",
    "        \n",
    "main() "
   ]
  },
  {
   "attachments": {},
   "cell_type": "markdown",
   "metadata": {},
   "source": [
    "**Sources:**\n",
    "1. OpenAI:\n",
    "    1. URL: https://chat.openai.com/c/ad8241aa-9dff-4afe-9aca-699194ef11ac \n",
    "    2. Prompt: \"sting slicing in python\"\n",
    "\n",
    "2. W3Schools:\n",
    "    1. URL: https://www.w3schools.com/python/ref_file_readline.asp"
   ]
  }
 ],
 "metadata": {
  "kernelspec": {
   "display_name": "Python 3",
   "language": "python",
   "name": "python3"
  },
  "language_info": {
   "codemirror_mode": {
    "name": "ipython",
    "version": 3
   },
   "file_extension": ".py",
   "mimetype": "text/x-python",
   "name": "python",
   "nbconvert_exporter": "python",
   "pygments_lexer": "ipython3",
   "version": "3.11.5"
  },
  "orig_nbformat": 4,
  "vscode": {
   "interpreter": {
    "hash": "aee8b7b246df8f9039afb4144a1f6fd8d2ca17a180786b69acc140d282b71a49"
   }
  }
 },
 "nbformat": 4,
 "nbformat_minor": 2
}
