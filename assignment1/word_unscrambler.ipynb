{
 "cells": [
  {
   "cell_type": "code",
   "execution_count": 6,
   "metadata": {},
   "outputs": [],
   "source": [
    "# 1 Read data from the words.txt and store it as a list of individual words\n",
    "\n",
    "def read_words(open_file):\n",
    "    open_file = open(\"words.txt\")\n",
    "    file_list = [] # Initalizes a list of words in \"words.txt\"\n",
    "\n",
    "    for words in open_file:\n",
    "        words = words.lower() # Makes all words in \"words.txt\" lowercase\n",
    "        words = words.strip() # Removes all leading and trailing characters from all words\n",
    "        words = words.replace('\\n', '') # Removes newline character \n",
    "\n",
    "        file_list.append(words)\n",
    "\n",
    "    open_file.close()\n",
    "    file_set = set(file_list) # Convert list into a set to remove duplicates\n",
    "    file_list = list(file_set) # Converts set back into a list\n",
    "    return file_list"
   ]
  },
  {
   "cell_type": "code",
   "execution_count": 12,
   "metadata": {},
   "outputs": [],
   "source": [
    "# 2. Ask user for an input word.\n",
    "\n",
    "def get_user_input():\n",
    "    while True: # Allows multiple inputs\n",
    "        user_input = input(\"Please enter a single word: \")\n",
    "        \n",
    "        if user_input == \"-1\":\n",
    "            return None\n",
    "        elif len(user_input) < 3: # Checks lower bound of user_input\n",
    "            invalid_input = input(\"Please enter a single word with more than 3 characters: \")\n",
    "            user_input = invalid_input\n",
    "        elif len(user_input) > 6: # Checks upper bound of user_input\n",
    "            return user_input[:6]\n",
    "        else: # Break loop if input is the proper length \n",
    "            break"
   ]
  },
  {
   "cell_type": "code",
   "execution_count": 8,
   "metadata": {},
   "outputs": [],
   "source": [
    "# 3. Iterate over the list of words\n",
    "from anyio import open_file\n",
    "\n",
    "def matching_words(file_list, user_input):\n",
    "    for words in file_list: # reads through open_file and sorts items into alphabetical order\n",
    "        read_words = open_file.readline()\n",
    "        sorted_words = sorted(words)\n",
    "\n",
    "        if sorted_words == user_input: # checks if other words can be created from the letters in user_input\n",
    "            print(words)"
   ]
  },
  {
   "cell_type": "code",
   "execution_count": 9,
   "metadata": {},
   "outputs": [],
   "source": [
    "# 4. Matching words list\n",
    "\n",
    "def len_sort(matching_words):\n",
    "    for words in matching_words:\n",
    "        if len.words(3): # Prints a list of all 3 letter matches\n",
    "            three_letters = list(len.words(3))\n",
    "            print(\"All 3 letter words: \", three_letters)\n",
    "        if len.words(4): # Prints a list of all 4 letter matches\n",
    "            four_letters = list(len.words(4))\n",
    "            print(\"All 4 letter words: \", four_letters)\n",
    "        if len.words(5): # Prints a list of all 5 letter matches\n",
    "            five_letters = list(len.words(5))\n",
    "            print(\"All 5 letter words: \", five_letters)\n",
    "        if len.words(6): # Prints a list of all 6 letter matches\n",
    "            six_letters = list(len.words(6)) \n",
    "            print(\"All 6 letter words: \", six_letters)"
   ]
  },
  {
   "cell_type": "code",
   "execution_count": 13,
   "metadata": {},
   "outputs": [],
   "source": [
    "# Calling main\n",
    "from distutils.filelist import FileList\n",
    "\n",
    "def main():\n",
    "    words_list = read_words()\n",
    "\n",
    "    while True:\n",
    "        user_input = get_user_input()\n",
    "        if user_input is None:\n",
    "            break\n",
    "\n",
    "        matched_words = matching_words(FileList, user_input)\n",
    "        len_sort(matching_words)\n",
    "        \n",
    "    main() "
   ]
  },
  {
   "attachments": {},
   "cell_type": "markdown",
   "metadata": {},
   "source": [
    "**Sources:**\n",
    "\n",
    "1. OpenAI: \n",
    "..1. URL: https://chat.openai.com/c/ad8241aa-9dff-4afe-9aca-699194ef11ac\n",
    "..2. Prompt: \"string slicing in python\"\n",
    "2. W3Schools\n",
    "..1. URL: https://www.w3schools.com/python/ref_file_readline.asp\n"
   ]
  }
 ],
 "metadata": {
  "kernelspec": {
   "display_name": "Python 3",
   "language": "python",
   "name": "python3"
  },
  "language_info": {
   "codemirror_mode": {
    "name": "ipython",
    "version": 3
   },
   "file_extension": ".py",
   "mimetype": "text/x-python",
   "name": "python",
   "nbconvert_exporter": "python",
   "pygments_lexer": "ipython3",
   "version": "3.11.5"
  },
  "orig_nbformat": 4,
  "vscode": {
   "interpreter": {
    "hash": "aee8b7b246df8f9039afb4144a1f6fd8d2ca17a180786b69acc140d282b71a49"
   }
  }
 },
 "nbformat": 4,
 "nbformat_minor": 2
}
