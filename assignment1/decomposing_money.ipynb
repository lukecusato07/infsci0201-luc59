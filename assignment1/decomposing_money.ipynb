{
 "cells": [
  {
   "cell_type": "code",
   "execution_count": 5,
   "metadata": {},
   "outputs": [],
   "source": [
    "# asks the user to enter an integer representing a dollar amount\n",
    "user_input = int(input(\"Enter any dollar amount: \"))"
   ]
  },
  {
   "cell_type": "code",
   "execution_count": 6,
   "metadata": {},
   "outputs": [],
   "source": [
    "# checks for incorrect input --> user_input must be 1-9999\n",
    "while user_input < 1 or user_input > 9999:\n",
    "    keep_going = (\"Dollar amount. Must be between $1-9999. \"\n",
    "         \"Please try again: \")\n",
    "    user_input = int(input(keep_going))"
   ]
  },
  {
   "cell_type": "code",
   "execution_count": 7,
   "metadata": {},
   "outputs": [],
   "source": [
    "# defines dollar value variables\n",
    "grands = user_input // 1000  # Divides user_input by 1000 to find the thousands place value\n",
    "benjamins = (user_input % 1000) // 100 # % 1000 = Remainder of user_input / 1000, // 100 = Remainder by 100 to find hundreds place value\n",
    "sawbucks = (user_input % 100) // 10 # % 100 = Gets rid of thousands and hundreds, // 10 = Remainder by 10 to find tens place value\n",
    "bucks = user_input % 10 # % 10 = Remainder when user_input is divided by 10 to find ones place value"
   ]
  },
  {
   "cell_type": "code",
   "execution_count": 8,
   "metadata": {},
   "outputs": [
    {
     "name": "stdout",
     "output_type": "stream",
     "text": [
      "5 grands\n",
      "6 Benjamins\n",
      "7 sawbucks\n",
      "8 bucks\n"
     ]
    }
   ],
   "source": [
    "# if statement used to print only present place values of user_input\n",
    "    # if user_input = 58 --> only prints 5 sawbucks, 8 bucks\n",
    "if grands:\n",
    "    print(grands, \"grands\")\n",
    "if benjamins:\n",
    "    print(benjamins, \"Benjamins\")\n",
    "if sawbucks:\n",
    "    print(sawbucks, \"sawbucks\")\n",
    "if bucks:\n",
    "    print(bucks, \"bucks\")"
   ]
  }
 ],
 "metadata": {
  "kernelspec": {
   "display_name": "Python 3",
   "language": "python",
   "name": "python3"
  },
  "language_info": {
   "codemirror_mode": {
    "name": "ipython",
    "version": 3
   },
   "file_extension": ".py",
   "mimetype": "text/x-python",
   "name": "python",
   "nbconvert_exporter": "python",
   "pygments_lexer": "ipython3",
   "version": "3.11.5"
  },
  "orig_nbformat": 4,
  "vscode": {
   "interpreter": {
    "hash": "aee8b7b246df8f9039afb4144a1f6fd8d2ca17a180786b69acc140d282b71a49"
   }
  }
 },
 "nbformat": 4,
 "nbformat_minor": 2
}
