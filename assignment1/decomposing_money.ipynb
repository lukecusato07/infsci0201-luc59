{
 "cells": [
  {
   "cell_type": "code",
   "execution_count": null,
   "metadata": {},
   "outputs": [],
   "source": [
    "# asks the user to enter an integer representing a dollar amount\n",
    "user_input = int(input(\"Enter any dollar amount: \"))"
   ]
  },
  {
   "cell_type": "code",
   "execution_count": null,
   "metadata": {},
   "outputs": [],
   "source": [
    "# checks for incorrect input\n",
    "while user_input < 1 or user_input > 9999:\n",
    "    keep_going = (\"Dollar amount. Must be between $1-9999. \"\n",
    "         \"Please try again: \")\n",
    "    user_input = int(input(keep_going))"
   ]
  },
  {
   "cell_type": "code",
   "execution_count": null,
   "metadata": {},
   "outputs": [],
   "source": [
    "# defines dollar value variables\n",
    "grands = user_input // 1000  \n",
    "Benjamins = (user_input % 1000) // 100\n",
    "sawbucks = (user_input % 100) // 10\n",
    "bucks = user_input % 10"
   ]
  },
  {
   "cell_type": "code",
   "execution_count": null,
   "metadata": {},
   "outputs": [],
   "source": [
    "# if statement used to print only present dollar amounts\n",
    "    # if user_input = 58 --> only prints 5 sawbucks, 8 bucks\n",
    "if grands:\n",
    "    print(grands, \"grands\")\n",
    "if Benjamins:\n",
    "    print(Benjamins, \"Benjamins\")\n",
    "if sawbucks:\n",
    "    print(sawbucks, \"sawbucks\")\n",
    "if bucks:\n",
    "    print(bucks, \"bucks\")"
   ]
  }
 ],
 "metadata": {
  "kernelspec": {
   "display_name": "Python 3",
   "language": "python",
   "name": "python3"
  },
  "language_info": {
   "codemirror_mode": {
    "name": "ipython",
    "version": 3
   },
   "file_extension": ".py",
   "mimetype": "text/x-python",
   "name": "python",
   "nbconvert_exporter": "python",
   "pygments_lexer": "ipython3",
   "version": "3.11.5"
  },
  "orig_nbformat": 4,
  "vscode": {
   "interpreter": {
    "hash": "aee8b7b246df8f9039afb4144a1f6fd8d2ca17a180786b69acc140d282b71a49"
   }
  }
 },
 "nbformat": 4,
 "nbformat_minor": 2
}
