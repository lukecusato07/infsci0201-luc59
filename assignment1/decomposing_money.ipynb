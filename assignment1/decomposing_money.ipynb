{
 "cells": [
  {
   "cell_type": "code",
   "execution_count": 1,
   "metadata": {},
   "outputs": [],
   "source": [
    "user_input = int(input(\"Enter any dollar amount: \"))\n",
    "\n",
    "while user_input < 1 or user_input > 9999:\n",
    "    keep_going = \"Invalid dollar amount. Must be between $1-9999. Please try again: \"\n",
    "    user_input = int(input(keep_going))\n",
    "    print(user_input)\n",
    "\n",
    "if user_input >= 1 or user_input <= 9999:\n",
    "    grands = user_input // 1000  \n",
    "    Benjamins = (user_input % 1000) // 100\n",
    "    sawbucks = (user_input % 100) // 10\n",
    "    bucks = user_input % 10\n",
    "\n",
    "    print(grands, \"grands\")\n",
    "    print(Benjamins, \"Benjamins\")\n",
    "    print(sawbucks, \"sawbucks\")\n",
    "    print(bucks, \"bucks\")"
   ]
  }
 ],
 "metadata": {
  "kernelspec": {
   "display_name": "Python 3",
   "language": "python",
   "name": "python3"
  },
  "language_info": {
   "codemirror_mode": {
    "name": "ipython",
    "version": 3
   },
   "file_extension": ".py",
   "mimetype": "text/x-python",
   "name": "python",
   "nbconvert_exporter": "python",
   "pygments_lexer": "ipython3",
   "version": "3.11.5"
  },
  "orig_nbformat": 4,
  "vscode": {
   "interpreter": {
    "hash": "aee8b7b246df8f9039afb4144a1f6fd8d2ca17a180786b69acc140d282b71a49"
   }
  }
 },
 "nbformat": 4,
 "nbformat_minor": 2
}
