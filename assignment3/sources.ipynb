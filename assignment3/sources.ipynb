{
 "cells": [
  {
   "attachments": {},
   "cell_type": "markdown",
   "metadata": {},
   "source": [
    "**Sources**\n",
    "1. OpenAI. (2023). ChatGPT [Large language model]. https://chat.openai.com"
   ]
  },
  {
   "attachments": {},
   "cell_type": "markdown",
   "metadata": {},
   "source": [
    "**Link to the chat log:** https://chat.openai.com/share/8021a8c9-3037-4729-b51b-37530bf77b50"
   ]
  },
  {
   "attachments": {},
   "cell_type": "markdown",
   "metadata": {},
   "source": [
    "**How was the source used**\n",
    "1. What you have asked the tool as your inquiry?\n",
    "    * I asked ChatGPT to help me with the final stage of my assignment, the curl command. I am new to curl commands and felt as if ChatGPT would be able to give me a quick and easy-to-understand explanation.\n",
    "\n",
    "    * I also asked ChatGPT to help me understand the creation and usage of curl commands. Now that I have a basic understanding of what they are, I needed a similar way to learn how to use these curl commands. \n",
    "\n",
    "    * Lastly, I asked ChatGPT to give me feedback on my updated code. I have been working on improving my code to better fit the instructions and I felt confident in my most recent code for Part #2, so I asked for undertsanding of the quality and correctness of my code."
   ]
  },
  {
   "attachments": {},
   "cell_type": "markdown",
   "metadata": {},
   "source": [
    "**What is the response you got**\n",
    "1. When asked about what curl commands are, ChatGPT gave me a brief overview of what curl commands are. Then, it gave me some examples of what a curl command looks like in the terminal.\n",
    "\n",
    "2. When asked how to create a curl command, ChatGPT gave me a similar answer. It first gave me an explanation of curl commands written out in the terminal. Next, it gave me examples of curl commands along with an explanation.\n",
    "\n",
    "3. When asked about the improvement of my code, ChatGPT gave me a detailed answer of the improvements of my code. It went through my code and explained in detail the quality and correctness of my code."
   ]
  },
  {
   "attachments": {},
   "cell_type": "markdown",
   "metadata": {},
   "source": [
    "**How did you use that response from the AI tool**\n",
    "1. I used these responses about curl commands to help me test my code. This was the 9th step in the assingment and ChatGPT gave me a better understanding of how to do this step.\n",
    "\n",
    "2. I used the response about my code improvement to gain feedback on the work that I did. I recieved positive feedback which meant that I had no more improvements to make to my code."
   ]
  }
 ],
 "metadata": {
  "kernelspec": {
   "display_name": "Python 3",
   "language": "python",
   "name": "python3"
  },
  "language_info": {
   "codemirror_mode": {
    "name": "ipython",
    "version": 3
   },
   "file_extension": ".py",
   "mimetype": "text/x-python",
   "name": "python",
   "nbconvert_exporter": "python",
   "pygments_lexer": "ipython3",
   "version": "3.11.5 (v3.11.5:cce6ba91b3, Aug 24 2023, 10:50:31) [Clang 13.0.0 (clang-1300.0.29.30)]"
  },
  "orig_nbformat": 4,
  "vscode": {
   "interpreter": {
    "hash": "aee8b7b246df8f9039afb4144a1f6fd8d2ca17a180786b69acc140d282b71a49"
   }
  }
 },
 "nbformat": 4,
 "nbformat_minor": 2
}
