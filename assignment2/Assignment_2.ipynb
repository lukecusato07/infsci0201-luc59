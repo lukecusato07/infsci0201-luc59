{
 "cells": [
  {
   "cell_type": "markdown",
   "metadata": {},
   "source": [
    "## Homework 2\n",
    "In this homework, you will work with a class to test your understanding about overriding equality and hash methods. In addition, you will work on serializing objects using the JSON format.  "
   ]
  },
  {
   "cell_type": "markdown",
   "metadata": {},
   "source": [
    "### Part #1: Equality and Hash Methods\n",
    "\n",
    "Implement the \\_\\_eq\\_\\_ and \\_\\_hash\\_\\_ methods for the Professor class provided below.  "
   ]
  },
  {
   "cell_type": "code",
   "execution_count": 1,
   "metadata": {},
   "outputs": [],
   "source": [
    "class Professor():\n",
    "    def __init__(self, name, staff_id, department, courses_taught):\n",
    "        self.__name = name\n",
    "        self.__staff_id = staff_id\n",
    "        self.__department = department\n",
    "        self.__courses_taught = courses_taught\n",
    "\n",
    "    # Override the __eq__ method below\n",
    "    def __eq__(self, other):\n",
    "        if not isinstance(other, Professor):\n",
    "            return NotImplemented\n",
    "        return (self.__name == other.__name and\n",
    "                self.__staff_id == other.__staff_id and\n",
    "                 self.__department == other.__department and\n",
    "                  self.__courses_taught == other.__courses_taught)\n",
    "\n",
    "    # Override the __hash__ method below\n",
    "    def __hash__(self):\n",
    "        return hash((self.__name, self.__staff_id, \n",
    "                     self.__department, self.__courses_taught))\n"
   ]
  },
  {
   "cell_type": "markdown",
   "metadata": {},
   "source": [
    "#### Part #1 Driver Code and Grading Policy\n",
    "Below is a driver code for testing Part 1 (30 points).  \n",
    "\n",
    "Grading Policy:  \n",
    "- Proper implementation of \\_\\_eq\\_\\_ and \\_\\_hash\\_\\_ methods => 5 points each\n",
    "- - You need to check the type of the object that is being compared in \\_\\_eq\\_\\_ method\n",
    "- - You need to use built-in hash function in \\_\\_hash\\_\\_ method\n",
    "- \"professor1 and professor2 are equal: \" => 5 points\n",
    "- \"professor1 and professor3 are equal: \" => 5 points\n",
    "- \"Size of the set: \" => 10 points"
   ]
  },
  {
   "cell_type": "code",
   "execution_count": 4,
   "metadata": {},
   "outputs": [
    {
     "name": "stdout",
     "output_type": "stream",
     "text": [
      "professor1 and professor2 are equal:  True\n",
      "professor1 and professor3 are equal:  False\n",
      "Size of the set:  5\n"
     ]
    }
   ],
   "source": [
    "professor1 = Professor(\"John Doe\", 12345, \"Computer Science\", 5)\n",
    "professor2 = Professor(\"John Doe\", 12345, \"Computer Science\", 5)\n",
    "professor3 = Professor(\"Jane Smith\", 54321, \"Mathematics\", 3)\n",
    "\n",
    "print(\"professor1 and professor2 are equal: \", professor1 == professor2)\n",
    "print(\"professor1 and professor3 are equal: \", professor1 == professor3)\n",
    "\n",
    "# Creating a set and adding professors\n",
    "professors_set = {professor1, professor2, professor3}\n",
    "professor4 = Professor(\"Luke Cusato\", 45515, \"Information Science\", 7)\n",
    "professor5 = Professor(\"Juan Pablo Urista\", 58267, \"Information Systems\", 8)\n",
    "professor6 = Professor(\"Aakash Sell\", 40213, \"Electrical and Computer Engineering\", 8)\n",
    "professors_set = {professor1, professor2, professor3, professor4, professor5, professor6}\n",
    "\n",
    "# Testing the set size\n",
    "print(\"Size of the set: \", len(professors_set))"
   ]
  },
  {
   "cell_type": "markdown",
   "metadata": {},
   "source": [
    "### Part #2: Serialization in Python using JSON strings\n",
    "\n",
    "Implement the to_json method for the Professor class, which should return a JSON string that contains all the instance properties."
   ]
  },
  {
   "cell_type": "code",
   "execution_count": null,
   "metadata": {},
   "outputs": [],
   "source": [
    "class Professor():\n",
    "    def __init__(self, name, staff_id, department, courses_taught):\n",
    "        self.__name = name\n",
    "        self.__staff_id = staff_id\n",
    "        self.__department = department\n",
    "        self.__courses_taught = courses_taught\n",
    "\n",
    "    # Implement to_json method below"
   ]
  },
  {
   "cell_type": "markdown",
   "metadata": {},
   "source": [
    "#### Part #2 Driver Code and Grading Policy\n",
    "Below is a driver code for testing Part 2 (30 points).  \n",
    "Import any required packages.  \n",
    "\n",
    "Grading Policy:  \n",
    "- Returning a valid JSON string from to_json method => 15 points\n",
    "- Including all instance properties in the JSON string => 15 points"
   ]
  },
  {
   "cell_type": "code",
   "execution_count": null,
   "metadata": {},
   "outputs": [],
   "source": [
    "professor1 = Professor(\"John Doe\", 12345, \"Computer Science\", 5)\n",
    "professor3 = Professor(\"Jane Smith\", 54321, \"Mathematics\", None)\n",
    "\n",
    "# Testing the to_json method\n",
    "print(professor1.to_json())\n",
    "print(professor3.to_json())"
   ]
  },
  {
   "cell_type": "markdown",
   "metadata": {},
   "source": [
    "### Part #3: Serialization in Python using JSON files\n",
    "\n",
    "Implement the serialize_to_json_file method for the Professor class, which serializes the Professor object to a file in JSON format.  \n",
    "Import any required package.  \n",
    "You can reuse your to_json method from the previous part.  "
   ]
  },
  {
   "cell_type": "code",
   "execution_count": null,
   "metadata": {},
   "outputs": [],
   "source": [
    "class Professor():\n",
    "    def __init__(self, name, staff_id, department, courses_taught):\n",
    "        self.__name = name\n",
    "        self.__staff_id = staff_id\n",
    "        self.__department = department\n",
    "        self.__courses_taught = courses_taught\n",
    "\n",
    "    # Implement serialize_to_json_file method to serialize object to a JSON file below\n",
    "\n",
    "\n",
    "    # Copy and paste your to_json method from Part #2 below\n",
    "\n",
    "\n",
    "    # Complete the code for deserialize method below for deserializing a Professor object from a JSON file\n",
    "    # This method is implemented as a static method. Which means that this is not an instance method.\n",
    "    # You can call this function by using the class name as follows: Professor.deserialize(\"file_path\")\n",
    "    @staticmethod\n",
    "    def deserialize(file_path:str):\n",
    "        # 0- Delete pass keyword\n",
    "        # 1- Read the contents of file_path as a JSON string. Check the lecture slides to see how to do it.\n",
    "        # 2- Create a Professor object by calling its constructor.\n",
    "        # 2.1- To call its constructor, you need to get the saved instance properties and pass them to the constructor. \n",
    "        # 2.2- To do so, you need to convert the JSON string read in step 1 to a Python data structure (check your slides)\n",
    "        # 2.3- Use the outcome of step 2.2 to access the instance properties.\n",
    "        # 3- Return that object\n",
    "        pass\n",
    "    "
   ]
  },
  {
   "cell_type": "markdown",
   "metadata": {},
   "source": [
    "#### Part #3 Driver Code and Grading Policy\n",
    "Below is a driver code for testing Part 3 (40 points).  \n",
    "Import any required packages.  \n",
    "\n",
    "Grading Policy:  \n",
    "- Serialization of a Professor object to a file named professor.json => 20 points\n",
    "- Deserialization of the Professor object from the file named professor.json => 20 points"
   ]
  },
  {
   "cell_type": "code",
   "execution_count": null,
   "metadata": {},
   "outputs": [],
   "source": [
    "professor1 = Professor(\"John Doe\", 12345, \"Computer Science\", 5)\n",
    "\n",
    "file_path = 'professor1.json'\n",
    "\n",
    "professor1.serialize_to_json_file(file_path)\n",
    "professor_1_deserialized = Professor.deserialize(file_path)\n",
    "\n",
    "print(\"Original professor object JSON string:\", professor1.to_json())\n",
    "print(\"Deserialized professor object JSON string\", professor_1_deserialized.to_json())\n"
   ]
  }
 ],
 "metadata": {
  "kernelspec": {
   "display_name": "Python 3",
   "language": "python",
   "name": "python3"
  },
  "language_info": {
   "codemirror_mode": {
    "name": "ipython",
    "version": 3
   },
   "file_extension": ".py",
   "mimetype": "text/x-python",
   "name": "python",
   "nbconvert_exporter": "python",
   "pygments_lexer": "ipython3",
   "version": "3.11.5"
  },
  "orig_nbformat": 4,
  "vscode": {
   "interpreter": {
    "hash": "aee8b7b246df8f9039afb4144a1f6fd8d2ca17a180786b69acc140d282b71a49"
   }
  }
 },
 "nbformat": 4,
 "nbformat_minor": 2
}
